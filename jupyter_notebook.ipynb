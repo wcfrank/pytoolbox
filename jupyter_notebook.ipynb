{
 "cells": [
  {
   "cell_type": "code",
   "execution_count": 1,
   "metadata": {
    "collapsed": true
   },
   "outputs": [],
   "source": [
    "import time"
   ]
  },
  {
   "cell_type": "markdown",
   "metadata": {},
   "source": [
    "How to refresh the print within ONE line:\n",
    "\n",
    "- print end='': do not change line, append in the end\n",
    "- print flush=True: output to the stdout right now"
   ]
  },
  {
   "cell_type": "code",
   "execution_count": 2,
   "metadata": {},
   "outputs": [
    {
     "name": "stdout",
     "output_type": "stream",
     "text": [
      "Done with 10 of 10 "
     ]
    }
   ],
   "source": [
    "words = ''\n",
    "for i in range(10): \n",
    "    for l in range(len(words)):\n",
    "        print('\\b', end='', flush=True) # every time remove one character of the current print, until the whole length\n",
    "        \n",
    "    words = 'Done with %2d of %2d ' % (i + 1, 10)\n",
    "    print(words, end='', flush=True)"
   ]
  },
  {
   "cell_type": "code",
   "execution_count": null,
   "metadata": {
    "collapsed": true
   },
   "outputs": [],
   "source": []
  }
 ],
 "metadata": {
  "kernelspec": {
   "display_name": "Python 3",
   "language": "python",
   "name": "python3"
  },
  "language_info": {
   "codemirror_mode": {
    "name": "ipython",
    "version": 3
   },
   "file_extension": ".py",
   "mimetype": "text/x-python",
   "name": "python",
   "nbconvert_exporter": "python",
   "pygments_lexer": "ipython3",
   "version": "3.6.3"
  }
 },
 "nbformat": 4,
 "nbformat_minor": 2
}
